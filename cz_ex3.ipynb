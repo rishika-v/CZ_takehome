{
  "cells": [
    {
      "cell_type": "markdown",
      "metadata": {
        "id": "view-in-github",
        "colab_type": "text"
      },
      "source": [
        "<a href=\"https://colab.research.google.com/github/rishika-v/CZ_takehome/blob/main/cz_ex3.ipynb\" target=\"_parent\"><img src=\"https://colab.research.google.com/assets/colab-badge.svg\" alt=\"Open In Colab\"/></a>"
      ]
    },
    {
      "cell_type": "code",
      "execution_count": 12,
      "id": "a878acd8",
      "metadata": {
        "colab": {
          "base_uri": "https://localhost:8080/"
        },
        "id": "a878acd8",
        "outputId": "968d6ed9-7fd5-415a-bd9e-a33a7db27cbd"
      },
      "outputs": [
        {
          "output_type": "stream",
          "name": "stdout",
          "text": [
            "Collecting git+https://www.github.com/mouseland/cellpose.git\n",
            "  Cloning https://www.github.com/mouseland/cellpose.git to /tmp/pip-req-build-n4_fqj87\n",
            "  Running command git clone --filter=blob:none --quiet https://www.github.com/mouseland/cellpose.git /tmp/pip-req-build-n4_fqj87\n",
            "  warning: redirecting to https://github.com/mouseland/cellpose.git/\n",
            "  Resolved https://www.github.com/mouseland/cellpose.git to commit 61c1a9484db165bea6b5fe7af15337e6f2ae2fbc\n",
            "  Preparing metadata (setup.py) ... \u001b[?25l\u001b[?25hdone\n",
            "Requirement already satisfied: numpy>=1.20.0 in /usr/local/lib/python3.10/dist-packages (from cellpose==3.0.8.dev6+g61c1a94) (1.25.2)\n",
            "Requirement already satisfied: scipy in /usr/local/lib/python3.10/dist-packages (from cellpose==3.0.8.dev6+g61c1a94) (1.11.4)\n",
            "Requirement already satisfied: natsort in /usr/local/lib/python3.10/dist-packages (from cellpose==3.0.8.dev6+g61c1a94) (8.4.0)\n",
            "Requirement already satisfied: tifffile in /usr/local/lib/python3.10/dist-packages (from cellpose==3.0.8.dev6+g61c1a94) (2024.2.12)\n",
            "Requirement already satisfied: tqdm in /usr/local/lib/python3.10/dist-packages (from cellpose==3.0.8.dev6+g61c1a94) (4.66.2)\n",
            "Requirement already satisfied: numba>=0.53.0 in /usr/local/lib/python3.10/dist-packages (from cellpose==3.0.8.dev6+g61c1a94) (0.58.1)\n",
            "Requirement already satisfied: llvmlite in /usr/local/lib/python3.10/dist-packages (from cellpose==3.0.8.dev6+g61c1a94) (0.41.1)\n",
            "Requirement already satisfied: opencv-python-headless in /usr/local/lib/python3.10/dist-packages (from cellpose==3.0.8.dev6+g61c1a94) (4.9.0.80)\n",
            "Requirement already satisfied: fastremap in /usr/local/lib/python3.10/dist-packages (from cellpose==3.0.8.dev6+g61c1a94) (1.14.1)\n",
            "Requirement already satisfied: imagecodecs in /usr/local/lib/python3.10/dist-packages (from cellpose==3.0.8.dev6+g61c1a94) (2024.1.1)\n",
            "Requirement already satisfied: roifile in /usr/local/lib/python3.10/dist-packages (from cellpose==3.0.8.dev6+g61c1a94) (2024.3.20)\n"
          ]
        }
      ],
      "source": [
        "#https://github.com/MouseLand/cellpose\n",
        "#Stringer, C., Wang, T., Michaelos, M., & Pachitariu, M. (2021). Cellpose: a generalist algorithm for cellular segmentation. Nature methods, 18(1), 100-106.\n",
        "!pip install git+https://www.github.com/mouseland/cellpose.git"
      ]
    },
    {
      "cell_type": "code",
      "execution_count": 13,
      "id": "f7a5b855",
      "metadata": {
        "id": "f7a5b855"
      },
      "outputs": [],
      "source": [
        "from cellpose import models\n",
        "import cv2\n",
        "import numpy as np\n",
        "import matplotlib.pyplot as plt\n",
        "import tifffile as tiff\n",
        "import glob\n",
        "from math import sqrt\n",
        "from skimage.measure import regionprops"
      ]
    },
    {
      "cell_type": "code",
      "source": [
        "#To upload the shared dataset with cell nuclei images\n",
        "from google.colab import drive\n",
        "drive.mount('/content/drive')"
      ],
      "metadata": {
        "colab": {
          "base_uri": "https://localhost:8080/"
        },
        "id": "dhtlpspvc2-m",
        "outputId": "bd0bff4f-3aef-4d0b-e29e-44ddb689f9d1"
      },
      "id": "dhtlpspvc2-m",
      "execution_count": 14,
      "outputs": [
        {
          "output_type": "stream",
          "name": "stdout",
          "text": [
            "Drive already mounted at /content/drive; to attempt to forcibly remount, call drive.mount(\"/content/drive\", force_remount=True).\n"
          ]
        }
      ]
    },
    {
      "cell_type": "code",
      "execution_count": 18,
      "id": "f05b862f",
      "metadata": {
        "id": "f05b862f"
      },
      "outputs": [],
      "source": [
        "# Initialize Cellpose model for nuclei\n",
        "model = models.Cellpose(model_type='nuclei')\n",
        "\n",
        "# Load images: https://docs.python.org/3/library/glob.html\n",
        "file_paths = glob.glob('/content/drive/My Drive/Assoc_RDEng_test.tif')\n",
        "all_eccentricities = []\n",
        "\n",
        "for path in file_paths:\n",
        "    # Load each image as 2D array of gray values (Grayscale) using OpenCV\n",
        "    #OpenCV read image as GRAYSCALE suggestion and syntax from Chat GPT\n",
        "    image = cv2.imread(path, cv2.IMREAD_GRAYSCALE)\n",
        "\n",
        "    # Segment nuclei using the obtained model- eval, diameter not set so model can estimate, channels parameter to indicate grayscale\n",
        "    # https://cellpose.readthedocs.io/en/latest/models.html\n",
        "    masks, flows, styles, diams = model.eval(image, diameter=None, channels=[0,0])\n",
        "\n",
        "    # masks: an array where each unique integer is a label for a different segmented nucleus\n",
        "    # Using measure regionprops (scikit-learn package): https://scikit-image.org/docs/stable/auto_examples/segmentation/plot_regionprops.html\n",
        "    # regionprops\n",
        "    for region in regionprops(masks):\n",
        "        if region.label == 0:  # Skip background\n",
        "          continue\n",
        "\n",
        "        # The regionprops function provides the minor and major axis lengths directly\n",
        "        a = region.major_axis_length / 2  # semi-major axis\n",
        "        b = region.minor_axis_length / 2  # semi-minor axis\n",
        "\n",
        "        # Calculate eccentricity: Using first eccentricity of ellipse formula\n",
        "        # https://en.wikipedia.org/wiki/Eccentricity_(mathematics)#Ellipses\n",
        "        eccentricity = np.sqrt(1 - (b**2 / a**2))\n",
        "        all_eccentricities.append(eccentricity)"
      ]
    },
    {
      "cell_type": "code",
      "execution_count": 17,
      "id": "a31fe2df",
      "metadata": {
        "colab": {
          "base_uri": "https://localhost:8080/",
          "height": 564
        },
        "id": "a31fe2df",
        "outputId": "7a07eedf-53a5-4af5-a630-f39339280c91"
      },
      "outputs": [
        {
          "output_type": "display_data",
          "data": {
            "text/plain": [
              "<Figure size 1000x600 with 1 Axes>"
            ],
            "image/png": "[encoded data removed]"
          },
          "metadata": {}
        }
      ],
      "source": [
        "# Plotting the histogram of eccentricities\n",
        "plt.figure(figsize=(10, 6))\n",
        "plt.hist(all_eccentricities, bins=20, color='skyblue', edgecolor='black')\n",
        "plt.title('Histogram of Nuclei Eccentricities')\n",
        "plt.xlabel('Eccentricity')\n",
        "plt.ylabel('Frequency')\n",
        "plt.show()"
      ]
    }
  ],
  "metadata": {
    "kernelspec": {
      "display_name": "Python 3",
      "language": "python",
      "name": "python3"
    },
    "language_info": {
      "codemirror_mode": {
        "name": "ipython",
        "version": 3
      },
      "file_extension": ".py",
      "mimetype": "text/x-python",
      "name": "python",
      "nbconvert_exporter": "python",
      "pygments_lexer": "ipython3",
      "version": "3.9.1"
    },
    "colab": {
      "provenance": [],
      "include_colab_link": true
    }
  },
  "nbformat": 4,
  "nbformat_minor": 5
}